{
 "cells": [
  {
   "cell_type": "code",
   "execution_count": 1,
   "metadata": {
    "id": "dXcLkyM1bTY8"
   },
   "outputs": [],
   "source": [
    "import matplotlib.pyplot as plt\n",
    "import seaborn as sns\n",
    "import matplotlib as mpl\n",
    "import matplotlib.pylab as pylab\n",
    "import numpy as np\n",
    "%matplotlib inline"
   ]
  },
  {
   "cell_type": "code",
   "execution_count": 2,
   "metadata": {
    "id": "DDsVuN5VbTZA"
   },
   "outputs": [],
   "source": [
    "import re"
   ]
  },
  {
   "cell_type": "code",
   "execution_count": 3,
   "metadata": {},
   "outputs": [
    {
     "name": "stdout",
     "output_type": "stream",
     "text": [
      "Defaulting to user installation because normal site-packages is not writeable\n",
      "Requirement already satisfied: gensim in ./.local/lib/python3.10/site-packages (4.3.3)\n",
      "Requirement already satisfied: numpy<2.0,>=1.18.5 in ./.local/lib/python3.10/site-packages (from gensim) (1.26.2)\n",
      "Requirement already satisfied: scipy<1.14.0,>=1.7.0 in ./.local/lib/python3.10/site-packages (from gensim) (1.11.3)\n",
      "Requirement already satisfied: smart-open>=1.8.1 in ./.local/lib/python3.10/site-packages (from gensim) (7.0.5)\n",
      "Requirement already satisfied: wrapt in ./.local/lib/python3.10/site-packages (from smart-open>=1.8.1->gensim) (1.16.0)\n",
      "Note: you may need to restart the kernel to use updated packages.\n"
     ]
    }
   ],
   "source": [
    "pip install gensim"
   ]
  },
  {
   "cell_type": "code",
   "execution_count": 4,
   "metadata": {
    "id": "XHmfWouLbTZA"
   },
   "outputs": [],
   "source": [
    "sentences = \"\"\"Over the course of my career, I have had the opportunity to immerse myself in the dynamic and ever-evolving field of mobile application development. I have been fortunate enough to work on a diverse array of projects, each with its own unique set of challenges and requirements, which has allowed me to grow and expand my skill set significantly.\n",
    "\n",
    "A major aspect of my professional journey has been my proficiency in both Flutter and Android development. This dual expertise has enabled me to create applications that not only perform efficiently across platforms but also provide a cohesive and consistent user experience. I have developed an in-depth understanding of these frameworks, allowing me to utilize their full potential in developing cross-platform applications that maintain high performance and adaptability.\n",
    "\n",
    "I believe that mobile app development is not just about writing code but about crafting an experience that resonates with users. As such, I approach every project with a user-first mindset, ensuring that the applications I create are not only functional but also intuitive and user-friendly. By focusing on usability and responsiveness, I strive to make sure that each app I develop engages users and provides a seamless interaction, which is crucial for retaining their interest and trust.\n",
    "\n",
    "In my experience, I have worked on a wide range of mobile applications, from simple, minimalist utility apps to complex, feature-rich platforms that integrate advanced functionalities. This diversity has taught me the importance of flexibility and adaptability. Whether it's integrating API services, managing state, optimizing for performance, or implementing cutting-edge UI/UX designs, I am committed to using the best practices and most efficient tools available to achieve the desired outcome.\n",
    "\n",
    "My projects have often required a blend of creativity and technical expertise. I pride myself on my ability to transform creative concepts and visions into tangible, functional applications. This process requires careful planning, precise execution, and a willingness to iterate based on feedback. I work closely with clients, designers, and other developers to ensure that the end product aligns with the initial vision and meets the project’s goals. I value collaboration as a means to achieve the best possible results.\n",
    "\n",
    "Quality and performance are at the forefront of my development philosophy. I pay close attention to every detail, from the initial wireframing stages to the final deployment, ensuring that the application not only meets functional requirements but also performs seamlessly across various devices and platforms. I implement efficient coding practices, utilize the best libraries and tools available, and consistently test and refine my applications to ensure they are optimized for both speed and reliability.\n",
    "\n",
    "In addition, I am passionate about staying updated with the latest technological trends in the mobile development sphere. I actively seek out new learning opportunities, whether through online courses, community forums, or collaborative projects, to keep my skills sharp and my knowledge current. This dedication to continuous learning allows me to incorporate modern features and technologies into my apps, providing a cutting-edge experience for users.\n",
    "\n",
    "When it comes to building applications, I also pay special attention to scalability and maintainability. I design my apps with future growth in mind, structuring the codebase in a modular and reusable way so that updates and new features can be integrated with minimal disruption. This not only benefits the immediate project but also ensures the long-term success and sustainability of the application.\n",
    "\n",
    "Ultimately, my goal is to deliver mobile applications that exceed user expectations. I am committed to creating solutions that are not only technically robust but also aesthetically appealing. By blending my technical skills with a focus on delivering polished and engaging user experiences, I aim to make a meaningful impact through my work.\n",
    "\n",
    "In summary, my career in mobile app development has been shaped by a continuous pursuit of excellence, creativity, and innovation. Leveraging my skills in Flutter and Android, I am dedicated to building high-quality, user-centric applications that stand out in today’s competitive market.\"\"\""
   ]
  },
  {
   "cell_type": "markdown",
   "metadata": {
    "id": "QdmP4i71bTZB"
   },
   "source": [
    "Clean Data"
   ]
  },
  {
   "cell_type": "code",
   "execution_count": 5,
   "metadata": {
    "id": "BrWgAUrdbTZC"
   },
   "outputs": [],
   "source": [
    "# remove special characters\n",
    "sentences = re.sub('[^A-Za-z0-9]+', ' ', sentences)\n",
    "\n",
    "# remove 1 letter words\n",
    "sentences = re.sub(r'(?:^| )\\w(?:$| )', ' ', sentences).strip()\n",
    "\n",
    "# lower all characters\n",
    "sentences = sentences.lower()"
   ]
  },
  {
   "cell_type": "code",
   "execution_count": 6,
   "metadata": {},
   "outputs": [
    {
     "data": {
      "text/plain": [
       "'over the course of my career have had the opportunity to immerse myself in the dynamic and ever evolving field of mobile application development have been fortunate enough to work on diverse array of projects each with its own unique set of challenges and requirements which has allowed me to grow and expand my skill set significantly major aspect of my professional journey has been my proficiency in both flutter and android development this dual expertise has enabled me to create applications that not only perform efficiently across platforms but also provide cohesive and consistent user experience have developed an in depth understanding of these frameworks allowing me to utilize their full potential in developing cross platform applications that maintain high performance and adaptability believe that mobile app development is not just about writing code but about crafting an experience that resonates with users as such approach every project with user first mindset ensuring that the applications create are not only functional but also intuitive and user friendly by focusing on usability and responsiveness strive to make sure that each app develop engages users and provides seamless interaction which is crucial for retaining their interest and trust in my experience have worked on wide range of mobile applications from simple minimalist utility apps to complex feature rich platforms that integrate advanced functionalities this diversity has taught me the importance of flexibility and adaptability whether it integrating api services managing state optimizing for performance or implementing cutting edge ui ux designs am committed to using the best practices and most efficient tools available to achieve the desired outcome my projects have often required blend of creativity and technical expertise pride myself on my ability to transform creative concepts and visions into tangible functional applications this process requires careful planning precise execution and willingness to iterate based on feedback work closely with clients designers and other developers to ensure that the end product aligns with the initial vision and meets the project goals value collaboration as means to achieve the best possible results quality and performance are at the forefront of my development philosophy pay close attention to every detail from the initial wireframing stages to the final deployment ensuring that the application not only meets functional requirements but also performs seamlessly across various devices and platforms implement efficient coding practices utilize the best libraries and tools available and consistently test and refine my applications to ensure they are optimized for both speed and reliability in addition am passionate about staying updated with the latest technological trends in the mobile development sphere actively seek out new learning opportunities whether through online courses community forums or collaborative projects to keep my skills sharp and my knowledge current this dedication to continuous learning allows me to incorporate modern features and technologies into my apps providing cutting edge experience for users when it comes to building applications also pay special attention to scalability and maintainability design my apps with future growth in mind structuring the codebase in modular and reusable way so that updates and new features can be integrated with minimal disruption this not only benefits the immediate project but also ensures the long term success and sustainability of the application ultimately my goal is to deliver mobile applications that exceed user expectations am committed to creating solutions that are not only technically robust but also aesthetically appealing by blending my technical skills with focus on delivering polished and engaging user experiences aim to make meaningful impact through my work in summary my career in mobile app development has been shaped by continuous pursuit of excellence creativity and innovation leveraging my skills in flutter and android am dedicated to building high quality user centric applications that stand out in today competitive market'"
      ]
     },
     "execution_count": 6,
     "metadata": {},
     "output_type": "execute_result"
    }
   ],
   "source": [
    "sentences"
   ]
  },
  {
   "cell_type": "markdown",
   "metadata": {
    "id": "MdGdE72abTZD"
   },
   "source": [
    "Vocabulary"
   ]
  },
  {
   "cell_type": "code",
   "execution_count": 30,
   "metadata": {
    "id": "3GI4bb5YbTZD"
   },
   "outputs": [],
   "source": [
    "words = sentences.split()\n",
    "vocab = set(words)"
   ]
  },
  {
   "cell_type": "code",
   "execution_count": 31,
   "metadata": {},
   "outputs": [
    {
     "data": {
      "text/plain": [
       "{'ability',\n",
       " 'about',\n",
       " 'achieve',\n",
       " 'across',\n",
       " 'actively',\n",
       " 'adaptability',\n",
       " 'addition',\n",
       " 'advanced',\n",
       " 'aesthetically',\n",
       " 'aim',\n",
       " 'aligns',\n",
       " 'allowed',\n",
       " 'allowing',\n",
       " 'allows',\n",
       " 'also',\n",
       " 'am',\n",
       " 'an',\n",
       " 'and',\n",
       " 'android',\n",
       " 'api',\n",
       " 'app',\n",
       " 'appealing',\n",
       " 'application',\n",
       " 'applications',\n",
       " 'approach',\n",
       " 'apps',\n",
       " 'are',\n",
       " 'array',\n",
       " 'as',\n",
       " 'aspect',\n",
       " 'at',\n",
       " 'attention',\n",
       " 'available',\n",
       " 'based',\n",
       " 'be',\n",
       " 'been',\n",
       " 'believe',\n",
       " 'benefits',\n",
       " 'best',\n",
       " 'blend',\n",
       " 'blending',\n",
       " 'both',\n",
       " 'building',\n",
       " 'but',\n",
       " 'by',\n",
       " 'can',\n",
       " 'career',\n",
       " 'careful',\n",
       " 'centric',\n",
       " 'challenges',\n",
       " 'clients',\n",
       " 'close',\n",
       " 'closely',\n",
       " 'code',\n",
       " 'codebase',\n",
       " 'coding',\n",
       " 'cohesive',\n",
       " 'collaboration',\n",
       " 'collaborative',\n",
       " 'comes',\n",
       " 'committed',\n",
       " 'community',\n",
       " 'competitive',\n",
       " 'complex',\n",
       " 'concepts',\n",
       " 'consistent',\n",
       " 'consistently',\n",
       " 'continuous',\n",
       " 'course',\n",
       " 'courses',\n",
       " 'crafting',\n",
       " 'create',\n",
       " 'creating',\n",
       " 'creative',\n",
       " 'creativity',\n",
       " 'cross',\n",
       " 'crucial',\n",
       " 'current',\n",
       " 'cutting',\n",
       " 'dedicated',\n",
       " 'dedication',\n",
       " 'deliver',\n",
       " 'delivering',\n",
       " 'deployment',\n",
       " 'depth',\n",
       " 'design',\n",
       " 'designers',\n",
       " 'designs',\n",
       " 'desired',\n",
       " 'detail',\n",
       " 'develop',\n",
       " 'developed',\n",
       " 'developers',\n",
       " 'developing',\n",
       " 'development',\n",
       " 'devices',\n",
       " 'disruption',\n",
       " 'diverse',\n",
       " 'diversity',\n",
       " 'dual',\n",
       " 'dynamic',\n",
       " 'each',\n",
       " 'edge',\n",
       " 'efficient',\n",
       " 'efficiently',\n",
       " 'enabled',\n",
       " 'end',\n",
       " 'engages',\n",
       " 'engaging',\n",
       " 'enough',\n",
       " 'ensure',\n",
       " 'ensures',\n",
       " 'ensuring',\n",
       " 'ever',\n",
       " 'every',\n",
       " 'evolving',\n",
       " 'exceed',\n",
       " 'excellence',\n",
       " 'execution',\n",
       " 'expand',\n",
       " 'expectations',\n",
       " 'experience',\n",
       " 'experiences',\n",
       " 'expertise',\n",
       " 'feature',\n",
       " 'features',\n",
       " 'feedback',\n",
       " 'field',\n",
       " 'final',\n",
       " 'first',\n",
       " 'flexibility',\n",
       " 'flutter',\n",
       " 'focus',\n",
       " 'focusing',\n",
       " 'for',\n",
       " 'forefront',\n",
       " 'fortunate',\n",
       " 'forums',\n",
       " 'frameworks',\n",
       " 'friendly',\n",
       " 'from',\n",
       " 'full',\n",
       " 'functional',\n",
       " 'functionalities',\n",
       " 'future',\n",
       " 'goal',\n",
       " 'goals',\n",
       " 'grow',\n",
       " 'growth',\n",
       " 'had',\n",
       " 'has',\n",
       " 'have',\n",
       " 'high',\n",
       " 'immediate',\n",
       " 'immerse',\n",
       " 'impact',\n",
       " 'implement',\n",
       " 'implementing',\n",
       " 'importance',\n",
       " 'in',\n",
       " 'incorporate',\n",
       " 'initial',\n",
       " 'innovation',\n",
       " 'integrate',\n",
       " 'integrated',\n",
       " 'integrating',\n",
       " 'interaction',\n",
       " 'interest',\n",
       " 'into',\n",
       " 'intuitive',\n",
       " 'is',\n",
       " 'it',\n",
       " 'iterate',\n",
       " 'its',\n",
       " 'journey',\n",
       " 'just',\n",
       " 'keep',\n",
       " 'knowledge',\n",
       " 'latest',\n",
       " 'learning',\n",
       " 'leveraging',\n",
       " 'libraries',\n",
       " 'long',\n",
       " 'maintain',\n",
       " 'maintainability',\n",
       " 'major',\n",
       " 'make',\n",
       " 'managing',\n",
       " 'market',\n",
       " 'me',\n",
       " 'meaningful',\n",
       " 'means',\n",
       " 'meets',\n",
       " 'mind',\n",
       " 'mindset',\n",
       " 'minimal',\n",
       " 'minimalist',\n",
       " 'mobile',\n",
       " 'modern',\n",
       " 'modular',\n",
       " 'most',\n",
       " 'my',\n",
       " 'myself',\n",
       " 'new',\n",
       " 'not',\n",
       " 'of',\n",
       " 'often',\n",
       " 'on',\n",
       " 'online',\n",
       " 'only',\n",
       " 'opportunities',\n",
       " 'opportunity',\n",
       " 'optimized',\n",
       " 'optimizing',\n",
       " 'or',\n",
       " 'other',\n",
       " 'out',\n",
       " 'outcome',\n",
       " 'over',\n",
       " 'own',\n",
       " 'passionate',\n",
       " 'pay',\n",
       " 'perform',\n",
       " 'performance',\n",
       " 'performs',\n",
       " 'philosophy',\n",
       " 'planning',\n",
       " 'platform',\n",
       " 'platforms',\n",
       " 'polished',\n",
       " 'possible',\n",
       " 'potential',\n",
       " 'practices',\n",
       " 'precise',\n",
       " 'pride',\n",
       " 'process',\n",
       " 'product',\n",
       " 'professional',\n",
       " 'proficiency',\n",
       " 'project',\n",
       " 'projects',\n",
       " 'provide',\n",
       " 'provides',\n",
       " 'providing',\n",
       " 'pursuit',\n",
       " 'quality',\n",
       " 'range',\n",
       " 'refine',\n",
       " 'reliability',\n",
       " 'required',\n",
       " 'requirements',\n",
       " 'requires',\n",
       " 'resonates',\n",
       " 'responsiveness',\n",
       " 'results',\n",
       " 'retaining',\n",
       " 'reusable',\n",
       " 'rich',\n",
       " 'robust',\n",
       " 'scalability',\n",
       " 'seamless',\n",
       " 'seamlessly',\n",
       " 'seek',\n",
       " 'services',\n",
       " 'set',\n",
       " 'shaped',\n",
       " 'sharp',\n",
       " 'significantly',\n",
       " 'simple',\n",
       " 'skill',\n",
       " 'skills',\n",
       " 'so',\n",
       " 'solutions',\n",
       " 'special',\n",
       " 'speed',\n",
       " 'sphere',\n",
       " 'stages',\n",
       " 'stand',\n",
       " 'state',\n",
       " 'staying',\n",
       " 'strive',\n",
       " 'structuring',\n",
       " 'success',\n",
       " 'such',\n",
       " 'summary',\n",
       " 'sure',\n",
       " 'sustainability',\n",
       " 'tangible',\n",
       " 'taught',\n",
       " 'technical',\n",
       " 'technically',\n",
       " 'technological',\n",
       " 'technologies',\n",
       " 'term',\n",
       " 'test',\n",
       " 'that',\n",
       " 'the',\n",
       " 'their',\n",
       " 'these',\n",
       " 'they',\n",
       " 'this',\n",
       " 'through',\n",
       " 'to',\n",
       " 'today',\n",
       " 'tools',\n",
       " 'transform',\n",
       " 'trends',\n",
       " 'trust',\n",
       " 'ui',\n",
       " 'ultimately',\n",
       " 'understanding',\n",
       " 'unique',\n",
       " 'updated',\n",
       " 'updates',\n",
       " 'usability',\n",
       " 'user',\n",
       " 'users',\n",
       " 'using',\n",
       " 'utility',\n",
       " 'utilize',\n",
       " 'ux',\n",
       " 'value',\n",
       " 'various',\n",
       " 'vision',\n",
       " 'visions',\n",
       " 'way',\n",
       " 'when',\n",
       " 'whether',\n",
       " 'which',\n",
       " 'wide',\n",
       " 'willingness',\n",
       " 'wireframing',\n",
       " 'with',\n",
       " 'work',\n",
       " 'worked',\n",
       " 'writing'}"
      ]
     },
     "execution_count": 31,
     "metadata": {},
     "output_type": "execute_result"
    }
   ],
   "source": [
    "vocab"
   ]
  },
  {
   "cell_type": "code",
   "execution_count": 29,
   "metadata": {},
   "outputs": [
    {
     "name": "stdout",
     "output_type": "stream",
     "text": [
      "Total Words: 27\n",
      "Total Sentences: 4186\n"
     ]
    }
   ],
   "source": [
    "from gensim.models import Word2Vec\n",
    "# Build vocabulary from tokenized sentences\n",
    "model = Word2Vec(sentences=sentences, vector_size=100, window=5, min_count=1, workers=4)\n",
    "vocab = model.wv.index_to_key  # Vocabulary\n",
    "\n",
    "# Get total number of words and sentences\n",
    "total_words = len(vocab)\n",
    "total_sentences = len(sentences)\n",
    "\n",
    "print(f\"Total Words: {total_words}\")\n",
    "print(f\"Total Sentences: {total_sentences}\")"
   ]
  },
  {
   "cell_type": "code",
   "execution_count": 9,
   "metadata": {
    "id": "ogsVx1SLbTZE"
   },
   "outputs": [],
   "source": [
    "vocab_size = len(vocab)\n",
    "embed_dim = 10\n",
    "context_size = 2"
   ]
  },
  {
   "cell_type": "markdown",
   "metadata": {
    "id": "leJnMmNtbTZF"
   },
   "source": [
    "Implementation"
   ]
  },
  {
   "cell_type": "code",
   "execution_count": 10,
   "metadata": {
    "id": "VNOe97hFbTZF"
   },
   "outputs": [],
   "source": [
    "word_to_ix = {word: i for i, word in enumerate(vocab)}\n",
    "ix_to_word = {i: word for i, word in enumerate(vocab)}"
   ]
  },
  {
   "cell_type": "markdown",
   "metadata": {
    "id": "HY1LKbf1bTZF"
   },
   "source": [
    "Data bags"
   ]
  },
  {
   "cell_type": "code",
   "execution_count": 32,
   "metadata": {
    "colab": {
     "base_uri": "https://localhost:8080/"
    },
    "id": "wl0VBMgCbTZF",
    "outputId": "2d25efe0-78e0-4a7e-cdde-92d43e0f8d10"
   },
   "outputs": [
    {
     "name": "stdout",
     "output_type": "stream",
     "text": [
      "[(['over', 'the', 'of', 'my'], 'course'), (['the', 'course', 'my', 'career'], 'of'), (['course', 'of', 'career', 'have'], 'my'), (['of', 'my', 'have', 'had'], 'career'), (['my', 'career', 'had', 'the'], 'have'), (['career', 'have', 'the', 'opportunity'], 'had'), (['have', 'had', 'opportunity', 'to'], 'the'), (['had', 'the', 'to', 'immerse'], 'opportunity'), (['the', 'opportunity', 'immerse', 'myself'], 'to'), (['opportunity', 'to', 'myself', 'in'], 'immerse'), (['to', 'immerse', 'in', 'the'], 'myself'), (['immerse', 'myself', 'the', 'dynamic'], 'in'), (['myself', 'in', 'dynamic', 'and'], 'the'), (['in', 'the', 'and', 'ever'], 'dynamic'), (['the', 'dynamic', 'ever', 'evolving'], 'and'), (['dynamic', 'and', 'evolving', 'field'], 'ever'), (['and', 'ever', 'field', 'of'], 'evolving'), (['ever', 'evolving', 'of', 'mobile'], 'field'), (['evolving', 'field', 'mobile', 'application'], 'of'), (['field', 'of', 'application', 'development'], 'mobile'), (['of', 'mobile', 'development', 'have'], 'application'), (['mobile', 'application', 'have', 'been'], 'development'), (['application', 'development', 'been', 'fortunate'], 'have'), (['development', 'have', 'fortunate', 'enough'], 'been'), (['have', 'been', 'enough', 'to'], 'fortunate'), (['been', 'fortunate', 'to', 'work'], 'enough'), (['fortunate', 'enough', 'work', 'on'], 'to'), (['enough', 'to', 'on', 'diverse'], 'work'), (['to', 'work', 'diverse', 'array'], 'on'), (['work', 'on', 'array', 'of'], 'diverse'), (['on', 'diverse', 'of', 'projects'], 'array'), (['diverse', 'array', 'projects', 'each'], 'of'), (['array', 'of', 'each', 'with'], 'projects'), (['of', 'projects', 'with', 'its'], 'each'), (['projects', 'each', 'its', 'own'], 'with'), (['each', 'with', 'own', 'unique'], 'its'), (['with', 'its', 'unique', 'set'], 'own'), (['its', 'own', 'set', 'of'], 'unique'), (['own', 'unique', 'of', 'challenges'], 'set'), (['unique', 'set', 'challenges', 'and'], 'of'), (['set', 'of', 'and', 'requirements'], 'challenges'), (['of', 'challenges', 'requirements', 'which'], 'and'), (['challenges', 'and', 'which', 'has'], 'requirements'), (['and', 'requirements', 'has', 'allowed'], 'which'), (['requirements', 'which', 'allowed', 'me'], 'has'), (['which', 'has', 'me', 'to'], 'allowed'), (['has', 'allowed', 'to', 'grow'], 'me'), (['allowed', 'me', 'grow', 'and'], 'to'), (['me', 'to', 'and', 'expand'], 'grow'), (['to', 'grow', 'expand', 'my'], 'and')]\n"
     ]
    }
   ],
   "source": [
    "# data - [(context), target]\n",
    "\n",
    "data = []\n",
    "for i in range(2, len(words) - 2):\n",
    "    context = [words[i - 2], words[i - 1], words[i + 1], words[i + 2]]\n",
    "    target = words[i]\n",
    "    data.append((context, target))\n",
    "print(data[:50])"
   ]
  },
  {
   "cell_type": "markdown",
   "metadata": {
    "id": "OiTZPe3GbTZG"
   },
   "source": [
    "Embeddings"
   ]
  },
  {
   "cell_type": "code",
   "execution_count": 12,
   "metadata": {
    "id": "51IcQMkQbTZG"
   },
   "outputs": [],
   "source": [
    "embeddings =  np.random.random_sample((vocab_size, embed_dim))"
   ]
  },
  {
   "cell_type": "markdown",
   "metadata": {
    "id": "nrc3qPlebTZH"
   },
   "source": [
    "Linear Model"
   ]
  },
  {
   "cell_type": "code",
   "execution_count": 13,
   "metadata": {
    "id": "Y_x_j_7mbTZH"
   },
   "outputs": [],
   "source": [
    "def linear(m, theta):\n",
    "    w = theta\n",
    "    return m.dot(w)"
   ]
  },
  {
   "cell_type": "markdown",
   "metadata": {
    "id": "bHs2L3lobTZH"
   },
   "source": [
    "Log softmax + NLLloss = Cross Entropy"
   ]
  },
  {
   "cell_type": "code",
   "execution_count": 14,
   "metadata": {
    "id": "Ega8iwJ-bTZH"
   },
   "outputs": [],
   "source": [
    "def log_softmax(x):\n",
    "    e_x = np.exp(x - np.max(x))\n",
    "    return np.log(e_x / e_x.sum())"
   ]
  },
  {
   "cell_type": "code",
   "execution_count": 15,
   "metadata": {
    "id": "M8JW6O5ZbTZH"
   },
   "outputs": [],
   "source": [
    "def NLLLoss(logs, targets):\n",
    "    out = logs[range(len(targets)), targets]\n",
    "    return -out.sum()/len(out)"
   ]
  },
  {
   "cell_type": "code",
   "execution_count": 16,
   "metadata": {
    "id": "7XoFf8pVbTZH"
   },
   "outputs": [],
   "source": [
    "def log_softmax_crossentropy_with_logits(logits,target):\n",
    "\n",
    "    out = np.zeros_like(logits)\n",
    "    out[np.arange(len(logits)),target] = 1\n",
    "\n",
    "    softmax = np.exp(logits) / np.exp(logits).sum(axis=-1,keepdims=True)\n",
    "\n",
    "    return (- out + softmax) / logits.shape[0]"
   ]
  },
  {
   "cell_type": "markdown",
   "metadata": {
    "id": "LiY27jXibTZH"
   },
   "source": [
    "Forward function"
   ]
  },
  {
   "cell_type": "code",
   "execution_count": 17,
   "metadata": {
    "id": "ioUM6Ud6bTZH"
   },
   "outputs": [],
   "source": [
    "def forward(context_idxs, theta):\n",
    "    m = embeddings[context_idxs].reshape(1, -1)\n",
    "    n = linear(m, theta)\n",
    "    o = log_softmax(n)\n",
    "\n",
    "    return m, n, o"
   ]
  },
  {
   "cell_type": "markdown",
   "metadata": {
    "id": "iMhsJ4vbbTZI"
   },
   "source": [
    "Backward function"
   ]
  },
  {
   "cell_type": "code",
   "execution_count": 18,
   "metadata": {
    "id": "mnC0kWTzbTZI"
   },
   "outputs": [],
   "source": [
    "def backward(preds, theta, target_idxs):\n",
    "    m, n, o = preds\n",
    "\n",
    "    dlog = log_softmax_crossentropy_with_logits(n, target_idxs)\n",
    "    dw = m.T.dot(dlog)\n",
    "\n",
    "    return dw"
   ]
  },
  {
   "cell_type": "markdown",
   "metadata": {
    "id": "dXB3Z9FObTZI"
   },
   "source": [
    "Optimize function"
   ]
  },
  {
   "cell_type": "code",
   "execution_count": 19,
   "metadata": {
    "id": "pm-T7xXAbTZI"
   },
   "outputs": [],
   "source": [
    "def optimize(theta, grad, lr=0.03):\n",
    "    theta -= grad * lr\n",
    "    return theta"
   ]
  },
  {
   "cell_type": "markdown",
   "metadata": {
    "id": "7lKLbqDobTZI"
   },
   "source": [
    "Training"
   ]
  },
  {
   "cell_type": "code",
   "execution_count": 20,
   "metadata": {
    "id": "fWKaXuTrbTZI"
   },
   "outputs": [],
   "source": [
    "theta = np.random.uniform(-1, 1, (2 * context_size * embed_dim, vocab_size))"
   ]
  },
  {
   "cell_type": "code",
   "execution_count": 21,
   "metadata": {
    "id": "vKxQ6GKrbTZI"
   },
   "outputs": [],
   "source": [
    "epoch_losses = {}\n",
    "\n",
    "for epoch in range(80):\n",
    "\n",
    "    losses =  []\n",
    "\n",
    "    for context, target in data:\n",
    "        context_idxs = np.array([word_to_ix[w] for w in context])\n",
    "        preds = forward(context_idxs, theta)\n",
    "\n",
    "        target_idxs = np.array([word_to_ix[target]])\n",
    "        loss = NLLLoss(preds[-1], target_idxs)\n",
    "\n",
    "        losses.append(loss)\n",
    "\n",
    "        grad = backward(preds, theta, target_idxs)\n",
    "        theta = optimize(theta, grad, lr=0.03)\n",
    "\n",
    "\n",
    "    epoch_losses[epoch] = losses"
   ]
  },
  {
   "cell_type": "markdown",
   "metadata": {
    "id": "-6NuRFFWbTZI"
   },
   "source": [
    "Analyze"
   ]
  },
  {
   "cell_type": "markdown",
   "metadata": {
    "id": "ARvr6NTkbTZI"
   },
   "source": [
    "Plot loss/epoch"
   ]
  },
  {
   "cell_type": "code",
   "execution_count": 22,
   "metadata": {
    "colab": {
     "base_uri": "https://localhost:8080/",
     "height": 519
    },
    "id": "N6mePIotbTZJ",
    "outputId": "b46712d9-c6e5-4805-ee33-d6697c23f865"
   },
   "outputs": [
    {
     "data": {
      "text/plain": [
       "Text(0, 0.5, 'Losses')"
      ]
     },
     "execution_count": 22,
     "metadata": {},
     "output_type": "execute_result"
    },
    {
     "data": {
      "image/png": "[encoded data removed]",
      "text/plain": [
       "<Figure size 640x480 with 1 Axes>"
      ]
     },
     "metadata": {},
     "output_type": "display_data"
    }
   ],
   "source": [
    "ix = np.arange(0,80)\n",
    "\n",
    "fig = plt.figure()\n",
    "fig.suptitle('Epoch/Losses', fontsize=20)\n",
    "plt.plot(ix,[epoch_losses[i][0] for i in ix])\n",
    "plt.xlabel('Epochs', fontsize=12)\n",
    "plt.ylabel('Losses', fontsize=12)"
   ]
  },
  {
   "cell_type": "markdown",
   "metadata": {
    "id": "_VrjN6wcbTZJ"
   },
   "source": [
    "Predict function"
   ]
  },
  {
   "cell_type": "code",
   "execution_count": 23,
   "metadata": {
    "id": "gWptIcRVbTZJ"
   },
   "outputs": [],
   "source": [
    "def predict(words):\n",
    "    context_idxs = np.array([word_to_ix[w] for w in words])\n",
    "    preds = forward(context_idxs, theta)\n",
    "    word = ix_to_word[np.argmax(preds[-1])]\n",
    "\n",
    "    return word"
   ]
  },
  {
   "cell_type": "code",
   "execution_count": 24,
   "metadata": {
    "colab": {
     "base_uri": "https://localhost:8080/",
     "height": 36
    },
    "id": "JKOgMfv1bTZJ",
    "outputId": "e0ad4725-7a5b-4c7e-ccaf-a8e51e29400a"
   },
   "outputs": [
    {
     "data": {
      "text/plain": [
       "'course'"
      ]
     },
     "execution_count": 24,
     "metadata": {},
     "output_type": "execute_result"
    }
   ],
   "source": [
    "\n",
    "predict(['over', 'the', 'of', 'my' ])"
   ]
  },
  {
   "cell_type": "markdown",
   "metadata": {
    "id": "Xfk9xeBpbTZJ"
   },
   "source": [
    "Accuracy"
   ]
  },
  {
   "cell_type": "code",
   "execution_count": 25,
   "metadata": {
    "id": "udAwWDKEbTZJ"
   },
   "outputs": [],
   "source": [
    "def accuracy():\n",
    "    wrong = 0\n",
    "\n",
    "    for context, target in data:\n",
    "        if(predict(context) != target):\n",
    "            wrong += 1\n",
    "\n",
    "    return (1 - (wrong / len(data)))"
   ]
  },
  {
   "cell_type": "code",
   "execution_count": 26,
   "metadata": {
    "colab": {
     "base_uri": "https://localhost:8080/"
    },
    "id": "-IUwOB4BbTZJ",
    "outputId": "ce200554-dfa5-44bd-e5b5-cc53611411a7"
   },
   "outputs": [
    {
     "data": {
      "text/plain": [
       "0.8125"
      ]
     },
     "execution_count": 26,
     "metadata": {},
     "output_type": "execute_result"
    }
   ],
   "source": [
    "accuracy()"
   ]
  },
  {
   "cell_type": "code",
   "execution_count": null,
   "metadata": {
    "id": "iJiUIyLicCA1"
   },
   "outputs": [],
   "source": []
  },
  {
   "cell_type": "code",
   "execution_count": null,
   "metadata": {},
   "outputs": [],
   "source": []
  }
 ],
 "metadata": {
  "colab": {
   "provenance": []
  },
  "kernelspec": {
   "display_name": "Python 3 (ipykernel)",
   "language": "python",
   "name": "python3"
  },
  "language_info": {
   "codemirror_mode": {
    "name": "ipython",
    "version": 3
   },
   "file_extension": ".py",
   "mimetype": "text/x-python",
   "name": "python",
   "nbconvert_exporter": "python",
   "pygments_lexer": "ipython3",
   "version": "3.10.12"
  }
 },
 "nbformat": 4,
 "nbformat_minor": 4
}
