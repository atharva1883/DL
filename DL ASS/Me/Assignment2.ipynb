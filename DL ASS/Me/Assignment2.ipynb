{
 "cells": [
  {
   "cell_type": "markdown",
   "id": "43a81844-4cb2-4366-bf89-da114ee77e83",
   "metadata": {},
   "source": [
    "# Importing necessary packages"
   ]
  },
  {
   "cell_type": "code",
   "execution_count": null,
   "id": "f98caad4",
   "metadata": {},
   "outputs": [],
   "source": []
  },
  {
   "cell_type": "markdown",
   "id": "b3664c01",
   "metadata": {},
   "source": []
  },
  {
   "cell_type": "markdown",
   "id": "011d927e",
   "metadata": {},
   "source": []
  },
  {
   "cell_type": "code",
   "execution_count": 1,
   "id": "74fbe16a-0567-4f38-b243-c3b2ceb09912",
   "metadata": {},
   "outputs": [],
   "source": [
    "import tensorflow as tf"
   ]
  },
  {
   "cell_type": "code",
   "execution_count": 2,
   "id": "4aa3e53d-1060-4dd4-b59a-6fe24f48f169",
   "metadata": {},
   "outputs": [],
   "source": [
    "from keras.models import Sequential"
   ]
  },
  {
   "cell_type": "code",
   "execution_count": 3,
   "id": "3160916d-6b65-4bd6-a3d8-2454e78a4e22",
   "metadata": {},
   "outputs": [],
   "source": [
    "from keras.datasets import mnist"
   ]
  },
  {
   "cell_type": "code",
   "execution_count": 4,
   "id": "b111eacf-5186-48b7-b3c8-703e886e39a1",
   "metadata": {},
   "outputs": [],
   "source": [
    "import matplotlib.pyplot as plt"
   ]
  },
  {
   "cell_type": "code",
   "execution_count": 5,
   "id": "48a1e313-0d21-452f-8fa2-70c9278e45b1",
   "metadata": {},
   "outputs": [],
   "source": [
    "import numpy as np"
   ]
  },
  {
   "cell_type": "code",
   "execution_count": 6,
   "id": "d22649ed-ad64-4870-8712-2ee1b97e2f8d",
   "metadata": {},
   "outputs": [],
   "source": [
    "import random"
   ]
  },
  {
   "cell_type": "markdown",
   "id": "5d92509c-4873-4694-86ec-25b2b1ba6e08",
   "metadata": {},
   "source": [
    "# Load the Training and testing Data"
   ]
  },
  {
   "cell_type": "code",
   "execution_count": 7,
   "id": "d181ae20-29ac-43dd-b383-a0c2b14c42cf",
   "metadata": {},
   "outputs": [],
   "source": [
    "(x_train,y_train),(x_test,y_test) = mnist.load_data()\n",
    "x_train = x_train/255\n",
    "x_test = x_test/255"
   ]
  },
  {
   "cell_type": "markdown",
   "id": "dc1c0340-6ddd-4240-8e3a-70a6352e9f53",
   "metadata": {},
   "source": [
    "# Define the network architecture using Keras"
   ]
  },
  {
   "cell_type": "code",
   "execution_count": 8,
   "id": "243dba8b-a8be-4474-9329-c23e543ec22a",
   "metadata": {},
   "outputs": [],
   "source": [
    "import keras\n",
    "model = Sequential()\n",
    "model.add(keras.layers.Flatten(input_shape = (28,28)))\n",
    "model.add(keras.layers.Dense(128,activation = 'relu'))\n",
    "model.add(keras.layers.Dense(10,activation = 'softmax'))"
   ]
  },
  {
   "cell_type": "markdown",
   "id": "054a462c-c715-4215-b78e-157417ecb773",
   "metadata": {},
   "source": [
    "# Train the model using SGD"
   ]
  },
  {
   "cell_type": "code",
   "execution_count": 9,
   "id": "78ce7c68-1e01-45aa-a9c6-1a817accd355",
   "metadata": {},
   "outputs": [
    {
     "name": "stdout",
     "output_type": "stream",
     "text": [
      "Epoch 1/5\n",
      "1875/1875 [==============================] - 4s 2ms/step - loss: 0.6551 - accuracy: 0.8288 - val_loss: 0.3588 - val_accuracy: 0.9014\n",
      "Epoch 2/5\n",
      "1875/1875 [==============================] - 3s 2ms/step - loss: 0.3413 - accuracy: 0.9037 - val_loss: 0.2947 - val_accuracy: 0.9183\n",
      "Epoch 3/5\n",
      "1875/1875 [==============================] - 3s 2ms/step - loss: 0.2932 - accuracy: 0.9164 - val_loss: 0.2636 - val_accuracy: 0.9270\n",
      "Epoch 4/5\n",
      "1875/1875 [==============================] - 3s 2ms/step - loss: 0.2618 - accuracy: 0.9254 - val_loss: 0.2376 - val_accuracy: 0.9330\n",
      "Epoch 5/5\n",
      "1875/1875 [==============================] - 3s 2ms/step - loss: 0.2376 - accuracy: 0.9330 - val_loss: 0.2193 - val_accuracy: 0.9366\n"
     ]
    }
   ],
   "source": [
    "model.compile(optimizer = 'sgd',loss = 'sparse_categorical_crossentropy',metrics = [\"accuracy\"])\n",
    "H = model.fit(x_train,y_train,validation_data = (x_test,y_test),epochs = 5)"
   ]
  },
  {
   "cell_type": "markdown",
   "id": "9f8163dc-85ec-45aa-a661-2726ddc96287",
   "metadata": {},
   "source": [
    "# Evaluate the network"
   ]
  },
  {
   "cell_type": "code",
   "execution_count": 10,
   "id": "4c1ab164-d8a7-4e20-837e-4c57671a84bf",
   "metadata": {},
   "outputs": [
    {
     "name": "stdout",
     "output_type": "stream",
     "text": [
      "313/313 [==============================] - 0s 1ms/step - loss: 0.2193 - accuracy: 0.9366\n",
      "Loss = 0.219\n",
      "Accuracy = 0.937\n"
     ]
    }
   ],
   "source": [
    "test_loss,test_acc = model.evaluate(x_test,y_test)\n",
    "print(\"Loss = %.3f\" %test_loss)\n",
    "print(\"Accuracy = %.3f\" %test_acc)"
   ]
  },
  {
   "cell_type": "code",
   "execution_count": 11,
   "id": "2680919b-98ae-4fc3-a057-122fe4a5dcd4",
   "metadata": {},
   "outputs": [
    {
     "data": {
      "image/png": "[encoded data removed]",
      "text/plain": [
       "<Figure size 432x288 with 1 Axes>"
      ]
     },
     "metadata": {
      "needs_background": "light"
     },
     "output_type": "display_data"
    },
    {
     "name": "stdout",
     "output_type": "stream",
     "text": [
      "313/313 [==============================] - 0s 1ms/step\n",
      "the handwritten number in the image is 4\n"
     ]
    }
   ],
   "source": [
    "n = random.randint(0,9999)\n",
    "plt.imshow(x_test[n])\n",
    "plt.show()\n",
    "prediction = model.predict(x_test)\n",
    "print(\"the handwritten number in the image is %d\" %np.argmax(prediction[n]))"
   ]
  },
  {
   "cell_type": "code",
   "execution_count": 12,
   "id": "40230901-cc54-4136-9cf1-59edd3716dfe",
   "metadata": {},
   "outputs": [
    {
     "name": "stdout",
     "output_type": "stream",
     "text": [
      "Epoch 1/10\n",
      "1875/1875 [==============================] - 5s 2ms/step - loss: 0.2179 - accuracy: 0.9389 - val_loss: 0.2025 - val_accuracy: 0.9411\n",
      "Epoch 2/10\n",
      "1875/1875 [==============================] - 3s 2ms/step - loss: 0.2019 - accuracy: 0.9431 - val_loss: 0.1901 - val_accuracy: 0.9438\n",
      "Epoch 3/10\n",
      "1875/1875 [==============================] - 3s 2ms/step - loss: 0.1885 - accuracy: 0.9474 - val_loss: 0.1786 - val_accuracy: 0.9476\n",
      "Epoch 4/10\n",
      "1875/1875 [==============================] - 3s 2ms/step - loss: 0.1767 - accuracy: 0.9504 - val_loss: 0.1704 - val_accuracy: 0.9509\n",
      "Epoch 5/10\n",
      "1875/1875 [==============================] - 3s 2ms/step - loss: 0.1667 - accuracy: 0.9538 - val_loss: 0.1616 - val_accuracy: 0.9530\n",
      "Epoch 6/10\n",
      "1875/1875 [==============================] - 3s 2ms/step - loss: 0.1575 - accuracy: 0.9562 - val_loss: 0.1539 - val_accuracy: 0.9545\n",
      "Epoch 7/10\n",
      "1875/1875 [==============================] - 3s 2ms/step - loss: 0.1494 - accuracy: 0.9579 - val_loss: 0.1478 - val_accuracy: 0.9555\n",
      "Epoch 8/10\n",
      "1875/1875 [==============================] - 3s 2ms/step - loss: 0.1423 - accuracy: 0.9603 - val_loss: 0.1411 - val_accuracy: 0.9585\n",
      "Epoch 9/10\n",
      "1875/1875 [==============================] - 3s 2ms/step - loss: 0.1358 - accuracy: 0.9625 - val_loss: 0.1353 - val_accuracy: 0.9595\n",
      "Epoch 10/10\n",
      "1875/1875 [==============================] - 4s 2ms/step - loss: 0.1297 - accuracy: 0.9643 - val_loss: 0.1315 - val_accuracy: 0.9607\n"
     ]
    }
   ],
   "source": [
    "model.compile(optimizer = 'sgd',loss = 'sparse_categorical_crossentropy',metrics = [\"accuracy\"])\n",
    "H = model.fit(x_train,y_train,validation_data = (x_test,y_test),epochs = 10)"
   ]
  },
  {
   "cell_type": "code",
   "execution_count": 13,
   "id": "17488991-f9ce-42cf-a6dd-c77c5b87a9af",
   "metadata": {},
   "outputs": [
    {
     "name": "stdout",
     "output_type": "stream",
     "text": [
      "313/313 [==============================] - 0s 1ms/step - loss: 0.1315 - accuracy: 0.9607\n",
      "Loss = 0.132\n",
      "Accuracy = 0.961\n"
     ]
    }
   ],
   "source": [
    "test_loss,test_acc = model.evaluate(x_test,y_test)\n",
    "print(\"Loss = %.3f\" %test_loss)\n",
    "print(\"Accuracy = %.3f\" %test_acc)"
   ]
  },
  {
   "cell_type": "code",
   "execution_count": 14,
   "id": "ac38dfd1-a0e1-4276-aca9-01b093203411",
   "metadata": {},
   "outputs": [
    {
     "data": {
      "image/png": "[encoded data removed]",
      "text/plain": [
       "<Figure size 432x288 with 1 Axes>"
      ]
     },
     "metadata": {
      "needs_background": "light"
     },
     "output_type": "display_data"
    },
    {
     "name": "stdout",
     "output_type": "stream",
     "text": [
      "313/313 [==============================] - 0s 1ms/step\n",
      "the handwritten number in the image is 6\n"
     ]
    }
   ],
   "source": [
    "n = random.randint(0,9999)\n",
    "plt.imshow(x_test[n])\n",
    "plt.show()\n",
    "prediction = model.predict(x_test)\n",
    "print(\"the handwritten number in the image is %d\" %np.argmax(prediction[n]))"
   ]
  },
  {
   "cell_type": "code",
   "execution_count": 15,
   "id": "43869289-7682-4003-b28f-0a7a74c295e8",
   "metadata": {},
   "outputs": [
    {
     "name": "stdout",
     "output_type": "stream",
     "text": [
      "Epoch 1/20\n",
      "1875/1875 [==============================] - 4s 2ms/step - loss: 0.1239 - accuracy: 0.9658 - val_loss: 0.1282 - val_accuracy: 0.9628\n",
      "Epoch 2/20\n",
      "1875/1875 [==============================] - 3s 2ms/step - loss: 0.1189 - accuracy: 0.9671 - val_loss: 0.1236 - val_accuracy: 0.9633\n",
      "Epoch 3/20\n",
      "1875/1875 [==============================] - 4s 2ms/step - loss: 0.1140 - accuracy: 0.9685 - val_loss: 0.1199 - val_accuracy: 0.9646\n",
      "Epoch 4/20\n",
      "1875/1875 [==============================] - 3s 2ms/step - loss: 0.1096 - accuracy: 0.9698 - val_loss: 0.1165 - val_accuracy: 0.9658\n",
      "Epoch 5/20\n",
      "1875/1875 [==============================] - 3s 2ms/step - loss: 0.1055 - accuracy: 0.9708 - val_loss: 0.1135 - val_accuracy: 0.9665\n",
      "Epoch 6/20\n",
      "1875/1875 [==============================] - 4s 2ms/step - loss: 0.1017 - accuracy: 0.9722 - val_loss: 0.1104 - val_accuracy: 0.9678\n",
      "Epoch 7/20\n",
      "1875/1875 [==============================] - 3s 2ms/step - loss: 0.0982 - accuracy: 0.9730 - val_loss: 0.1083 - val_accuracy: 0.9690\n",
      "Epoch 8/20\n",
      "1875/1875 [==============================] - 3s 2ms/step - loss: 0.0948 - accuracy: 0.9739 - val_loss: 0.1055 - val_accuracy: 0.9692\n",
      "Epoch 9/20\n",
      "1875/1875 [==============================] - 4s 2ms/step - loss: 0.0916 - accuracy: 0.9751 - val_loss: 0.1031 - val_accuracy: 0.9700\n",
      "Epoch 10/20\n",
      "1875/1875 [==============================] - 4s 2ms/step - loss: 0.0886 - accuracy: 0.9759 - val_loss: 0.1021 - val_accuracy: 0.9693\n",
      "Epoch 11/20\n",
      "1875/1875 [==============================] - 3s 2ms/step - loss: 0.0861 - accuracy: 0.9763 - val_loss: 0.0994 - val_accuracy: 0.9709\n",
      "Epoch 12/20\n",
      "1875/1875 [==============================] - 3s 2ms/step - loss: 0.0833 - accuracy: 0.9772 - val_loss: 0.0973 - val_accuracy: 0.9718\n",
      "Epoch 13/20\n",
      "1875/1875 [==============================] - 3s 2ms/step - loss: 0.0809 - accuracy: 0.9780 - val_loss: 0.0966 - val_accuracy: 0.9720\n",
      "Epoch 14/20\n",
      "1875/1875 [==============================] - 3s 2ms/step - loss: 0.0786 - accuracy: 0.9783 - val_loss: 0.0954 - val_accuracy: 0.9722\n",
      "Epoch 15/20\n",
      "1875/1875 [==============================] - 3s 2ms/step - loss: 0.0763 - accuracy: 0.9793 - val_loss: 0.0945 - val_accuracy: 0.9719\n",
      "Epoch 16/20\n",
      "1875/1875 [==============================] - 3s 2ms/step - loss: 0.0743 - accuracy: 0.9797 - val_loss: 0.0918 - val_accuracy: 0.9726\n",
      "Epoch 17/20\n",
      "1875/1875 [==============================] - 3s 2ms/step - loss: 0.0723 - accuracy: 0.9807 - val_loss: 0.0914 - val_accuracy: 0.9729\n",
      "Epoch 18/20\n",
      "1875/1875 [==============================] - 3s 2ms/step - loss: 0.0703 - accuracy: 0.9807 - val_loss: 0.0891 - val_accuracy: 0.9732\n",
      "Epoch 19/20\n",
      "1875/1875 [==============================] - 3s 2ms/step - loss: 0.0686 - accuracy: 0.9811 - val_loss: 0.0892 - val_accuracy: 0.9738\n",
      "Epoch 20/20\n",
      "1875/1875 [==============================] - 3s 2ms/step - loss: 0.0669 - accuracy: 0.9817 - val_loss: 0.0888 - val_accuracy: 0.9738\n"
     ]
    }
   ],
   "source": [
    "model.compile(optimizer = 'sgd',loss = 'sparse_categorical_crossentropy',metrics = [\"accuracy\"])\n",
    "H = model.fit(x_train,y_train,validation_data = (x_test,y_test),epochs = 20)"
   ]
  },
  {
   "cell_type": "code",
   "execution_count": 16,
   "id": "5603efe1-dabb-4d17-94bb-62ff4395cefb",
   "metadata": {},
   "outputs": [
    {
     "name": "stdout",
     "output_type": "stream",
     "text": [
      "313/313 [==============================] - 0s 1ms/step - loss: 0.0888 - accuracy: 0.9738\n",
      "Loss = 0.089\n",
      "Accuracy = 0.974\n"
     ]
    }
   ],
   "source": [
    "test_loss,test_acc = model.evaluate(x_test,y_test)\n",
    "print(\"Loss = %.3f\" %test_loss)\n",
    "print(\"Accuracy = %.3f\" %test_acc)"
   ]
  },
  {
   "cell_type": "code",
   "execution_count": 17,
   "id": "bb37a7a0-b3c8-46f8-a192-f338537f71a6",
   "metadata": {},
   "outputs": [
    {
     "name": "stdout",
     "output_type": "stream",
     "text": [
      "Epoch 1/25\n",
      "1875/1875 [==============================] - 4s 2ms/step - loss: 0.0651 - accuracy: 0.9823 - val_loss: 0.0873 - val_accuracy: 0.9741\n",
      "Epoch 2/25\n",
      "1875/1875 [==============================] - 3s 2ms/step - loss: 0.0636 - accuracy: 0.9826 - val_loss: 0.0865 - val_accuracy: 0.9743\n",
      "Epoch 3/25\n",
      "1875/1875 [==============================] - 3s 2ms/step - loss: 0.0622 - accuracy: 0.9831 - val_loss: 0.0848 - val_accuracy: 0.9744\n",
      "Epoch 4/25\n",
      "1875/1875 [==============================] - 3s 2ms/step - loss: 0.0607 - accuracy: 0.9836 - val_loss: 0.0846 - val_accuracy: 0.9747\n",
      "Epoch 5/25\n",
      "1875/1875 [==============================] - 4s 2ms/step - loss: 0.0594 - accuracy: 0.9840 - val_loss: 0.0845 - val_accuracy: 0.9741\n",
      "Epoch 6/25\n",
      "1875/1875 [==============================] - 3s 2ms/step - loss: 0.0581 - accuracy: 0.9840 - val_loss: 0.0829 - val_accuracy: 0.9745\n",
      "Epoch 7/25\n",
      "1875/1875 [==============================] - 3s 2ms/step - loss: 0.0568 - accuracy: 0.9849 - val_loss: 0.0816 - val_accuracy: 0.9743\n",
      "Epoch 8/25\n",
      "1875/1875 [==============================] - 3s 2ms/step - loss: 0.0554 - accuracy: 0.9854 - val_loss: 0.0816 - val_accuracy: 0.9750\n",
      "Epoch 9/25\n",
      "1875/1875 [==============================] - 3s 2ms/step - loss: 0.0542 - accuracy: 0.9856 - val_loss: 0.0828 - val_accuracy: 0.9751\n",
      "Epoch 10/25\n",
      "1875/1875 [==============================] - 3s 2ms/step - loss: 0.0532 - accuracy: 0.9859 - val_loss: 0.0807 - val_accuracy: 0.9748\n",
      "Epoch 11/25\n",
      "1875/1875 [==============================] - 4s 2ms/step - loss: 0.0519 - accuracy: 0.9863 - val_loss: 0.0810 - val_accuracy: 0.9748\n",
      "Epoch 12/25\n",
      "1875/1875 [==============================] - 3s 2ms/step - loss: 0.0509 - accuracy: 0.9865 - val_loss: 0.0805 - val_accuracy: 0.9753\n",
      "Epoch 13/25\n",
      "1875/1875 [==============================] - 3s 2ms/step - loss: 0.0499 - accuracy: 0.9866 - val_loss: 0.0794 - val_accuracy: 0.9758\n",
      "Epoch 14/25\n",
      "1875/1875 [==============================] - 4s 2ms/step - loss: 0.0489 - accuracy: 0.9872 - val_loss: 0.0783 - val_accuracy: 0.9760\n",
      "Epoch 15/25\n",
      "1875/1875 [==============================] - 4s 2ms/step - loss: 0.0479 - accuracy: 0.9874 - val_loss: 0.0781 - val_accuracy: 0.9761\n",
      "Epoch 16/25\n",
      "1875/1875 [==============================] - 3s 2ms/step - loss: 0.0471 - accuracy: 0.9880 - val_loss: 0.0784 - val_accuracy: 0.9759\n",
      "Epoch 17/25\n",
      "1875/1875 [==============================] - 3s 2ms/step - loss: 0.0460 - accuracy: 0.9878 - val_loss: 0.0774 - val_accuracy: 0.9755\n",
      "Epoch 18/25\n",
      "1875/1875 [==============================] - 3s 2ms/step - loss: 0.0451 - accuracy: 0.9882 - val_loss: 0.0764 - val_accuracy: 0.9761\n",
      "Epoch 19/25\n",
      "1875/1875 [==============================] - 3s 2ms/step - loss: 0.0444 - accuracy: 0.9886 - val_loss: 0.0764 - val_accuracy: 0.9764\n",
      "Epoch 20/25\n",
      "1875/1875 [==============================] - 3s 2ms/step - loss: 0.0434 - accuracy: 0.9889 - val_loss: 0.0767 - val_accuracy: 0.9759\n",
      "Epoch 21/25\n",
      "1875/1875 [==============================] - 3s 2ms/step - loss: 0.0426 - accuracy: 0.9893 - val_loss: 0.0769 - val_accuracy: 0.9758\n",
      "Epoch 22/25\n",
      "1875/1875 [==============================] - 3s 2ms/step - loss: 0.0420 - accuracy: 0.9891 - val_loss: 0.0755 - val_accuracy: 0.9765\n",
      "Epoch 23/25\n",
      "1875/1875 [==============================] - 3s 2ms/step - loss: 0.0410 - accuracy: 0.9895 - val_loss: 0.0754 - val_accuracy: 0.9765\n",
      "Epoch 24/25\n",
      "1875/1875 [==============================] - 4s 2ms/step - loss: 0.0404 - accuracy: 0.9897 - val_loss: 0.0755 - val_accuracy: 0.9760\n",
      "Epoch 25/25\n",
      "1875/1875 [==============================] - 4s 2ms/step - loss: 0.0396 - accuracy: 0.9903 - val_loss: 0.0746 - val_accuracy: 0.9762\n"
     ]
    }
   ],
   "source": [
    "model.compile(optimizer = 'sgd',loss = 'sparse_categorical_crossentropy',metrics = [\"accuracy\"])\n",
    "H = model.fit(x_train,y_train,validation_data = (x_test,y_test),epochs = 25)"
   ]
  },
  {
   "cell_type": "code",
   "execution_count": 18,
   "id": "5186851c-c76f-4234-bb60-7753cc6d06e2",
   "metadata": {},
   "outputs": [
    {
     "name": "stdout",
     "output_type": "stream",
     "text": [
      "313/313 [==============================] - 1s 2ms/step - loss: 0.0746 - accuracy: 0.9762\n",
      "Loss = 0.075\n",
      "Accuracy = 0.976\n"
     ]
    }
   ],
   "source": [
    "test_loss,test_acc = model.evaluate(x_test,y_test)\n",
    "print(\"Loss = %.3f\" %test_loss)\n",
    "print(\"Accuracy = %.3f\" %test_acc)"
   ]
  },
  {
   "cell_type": "code",
   "execution_count": 19,
   "id": "803075fa-15dc-4df4-bcc1-6204754931d1",
   "metadata": {},
   "outputs": [
    {
     "data": {
      "image/png": "[encoded data removed]",
      "text/plain": [
       "<Figure size 432x288 with 1 Axes>"
      ]
     },
     "metadata": {
      "needs_background": "light"
     },
     "output_type": "display_data"
    },
    {
     "name": "stdout",
     "output_type": "stream",
     "text": [
      "313/313 [==============================] - 0s 1ms/step\n",
      "the handwritten number in the image is 5\n"
     ]
    }
   ],
   "source": [
    "n = random.randint(0,9999)\n",
    "plt.imshow(x_test[n])\n",
    "plt.show()\n",
    "prediction = model.predict(x_test)\n",
    "print(\"the handwritten number in the image is %d\" %np.argmax(prediction[n]))"
   ]
  },
  {
   "cell_type": "code",
   "execution_count": 20,
   "id": "da2bf711-8c17-42da-9e7d-ea2c90dd080c",
   "metadata": {},
   "outputs": [
    {
     "name": "stdout",
     "output_type": "stream",
     "text": [
      "[[0.         0.         0.         0.         0.         0.\n",
      "  0.         0.         0.         0.         0.         0.\n",
      "  0.         0.         0.         0.         0.         0.\n",
      "  0.         0.         0.         0.         0.         0.\n",
      "  0.         0.         0.         0.        ]\n",
      " [0.         0.         0.         0.         0.         0.\n",
      "  0.         0.         0.         0.         0.         0.\n",
      "  0.         0.         0.         0.         0.         0.\n",
      "  0.         0.         0.         0.         0.         0.\n",
      "  0.         0.         0.         0.        ]\n",
      " [0.         0.         0.         0.         0.         0.\n",
      "  0.         0.         0.         0.         0.         0.\n",
      "  0.         0.         0.         0.         0.         0.\n",
      "  0.         0.         0.         0.         0.         0.\n",
      "  0.         0.         0.         0.        ]\n",
      " [0.         0.         0.         0.         0.         0.\n",
      "  0.         0.         0.         0.         0.         0.\n",
      "  0.         0.         0.         0.         0.         0.\n",
      "  0.         0.         0.         0.         0.         0.\n",
      "  0.         0.         0.         0.        ]\n",
      " [0.         0.         0.         0.         0.         0.\n",
      "  0.         0.         0.         0.         0.         0.\n",
      "  0.         0.         0.         0.         0.         0.\n",
      "  0.         0.         0.         0.         0.         0.\n",
      "  0.         0.         0.         0.        ]\n",
      " [0.         0.         0.         0.         0.         0.\n",
      "  0.         0.         0.         0.         0.         0.\n",
      "  0.         0.         0.         0.         0.         0.\n",
      "  0.         0.         0.         0.         0.         0.\n",
      "  0.         0.         0.         0.        ]\n",
      " [0.         0.         0.         0.         0.         0.\n",
      "  0.         0.         0.         0.         0.         0.\n",
      "  0.         0.         0.         0.         0.         0.\n",
      "  0.         0.         0.         0.         0.         0.\n",
      "  0.         0.         0.         0.        ]\n",
      " [0.         0.         0.         0.         0.         0.\n",
      "  0.32941176 0.7254902  0.62352941 0.59215686 0.23529412 0.14117647\n",
      "  0.         0.         0.         0.         0.         0.\n",
      "  0.         0.         0.         0.         0.         0.\n",
      "  0.         0.         0.         0.        ]\n",
      " [0.         0.         0.         0.         0.         0.\n",
      "  0.87058824 0.99607843 0.99607843 0.99607843 0.99607843 0.94509804\n",
      "  0.77647059 0.77647059 0.77647059 0.77647059 0.77647059 0.77647059\n",
      "  0.77647059 0.77647059 0.66666667 0.20392157 0.         0.\n",
      "  0.         0.         0.         0.        ]\n",
      " [0.         0.         0.         0.         0.         0.\n",
      "  0.2627451  0.44705882 0.28235294 0.44705882 0.63921569 0.89019608\n",
      "  0.99607843 0.88235294 0.99607843 0.99607843 0.99607843 0.98039216\n",
      "  0.89803922 0.99607843 0.99607843 0.54901961 0.         0.\n",
      "  0.         0.         0.         0.        ]\n",
      " [0.         0.         0.         0.         0.         0.\n",
      "  0.         0.         0.         0.         0.         0.06666667\n",
      "  0.25882353 0.05490196 0.2627451  0.2627451  0.2627451  0.23137255\n",
      "  0.08235294 0.9254902  0.99607843 0.41568627 0.         0.\n",
      "  0.         0.         0.         0.        ]\n",
      " [0.         0.         0.         0.         0.         0.\n",
      "  0.         0.         0.         0.         0.         0.\n",
      "  0.         0.         0.         0.         0.         0.\n",
      "  0.3254902  0.99215686 0.81960784 0.07058824 0.         0.\n",
      "  0.         0.         0.         0.        ]\n",
      " [0.         0.         0.         0.         0.         0.\n",
      "  0.         0.         0.         0.         0.         0.\n",
      "  0.         0.         0.         0.         0.         0.08627451\n",
      "  0.91372549 1.         0.3254902  0.         0.         0.\n",
      "  0.         0.         0.         0.        ]\n",
      " [0.         0.         0.         0.         0.         0.\n",
      "  0.         0.         0.         0.         0.         0.\n",
      "  0.         0.         0.         0.         0.         0.50588235\n",
      "  0.99607843 0.93333333 0.17254902 0.         0.         0.\n",
      "  0.         0.         0.         0.        ]\n",
      " [0.         0.         0.         0.         0.         0.\n",
      "  0.         0.         0.         0.         0.         0.\n",
      "  0.         0.         0.         0.         0.23137255 0.97647059\n",
      "  0.99607843 0.24313725 0.         0.         0.         0.\n",
      "  0.         0.         0.         0.        ]\n",
      " [0.         0.         0.         0.         0.         0.\n",
      "  0.         0.         0.         0.         0.         0.\n",
      "  0.         0.         0.         0.         0.52156863 0.99607843\n",
      "  0.73333333 0.01960784 0.         0.         0.         0.\n",
      "  0.         0.         0.         0.        ]\n",
      " [0.         0.         0.         0.         0.         0.\n",
      "  0.         0.         0.         0.         0.         0.\n",
      "  0.         0.         0.         0.03529412 0.80392157 0.97254902\n",
      "  0.22745098 0.         0.         0.         0.         0.\n",
      "  0.         0.         0.         0.        ]\n",
      " [0.         0.         0.         0.         0.         0.\n",
      "  0.         0.         0.         0.         0.         0.\n",
      "  0.         0.         0.         0.49411765 0.99607843 0.71372549\n",
      "  0.         0.         0.         0.         0.         0.\n",
      "  0.         0.         0.         0.        ]\n",
      " [0.         0.         0.         0.         0.         0.\n",
      "  0.         0.         0.         0.         0.         0.\n",
      "  0.         0.         0.29411765 0.98431373 0.94117647 0.22352941\n",
      "  0.         0.         0.         0.         0.         0.\n",
      "  0.         0.         0.         0.        ]\n",
      " [0.         0.         0.         0.         0.         0.\n",
      "  0.         0.         0.         0.         0.         0.\n",
      "  0.         0.0745098  0.86666667 0.99607843 0.65098039 0.\n",
      "  0.         0.         0.         0.         0.         0.\n",
      "  0.         0.         0.         0.        ]\n",
      " [0.         0.         0.         0.         0.         0.\n",
      "  0.         0.         0.         0.         0.         0.\n",
      "  0.01176471 0.79607843 0.99607843 0.85882353 0.1372549  0.\n",
      "  0.         0.         0.         0.         0.         0.\n",
      "  0.         0.         0.         0.        ]\n",
      " [0.         0.         0.         0.         0.         0.\n",
      "  0.         0.         0.         0.         0.         0.\n",
      "  0.14901961 0.99607843 0.99607843 0.30196078 0.         0.\n",
      "  0.         0.         0.         0.         0.         0.\n",
      "  0.         0.         0.         0.        ]\n",
      " [0.         0.         0.         0.         0.         0.\n",
      "  0.         0.         0.         0.         0.         0.12156863\n",
      "  0.87843137 0.99607843 0.45098039 0.00392157 0.         0.\n",
      "  0.         0.         0.         0.         0.         0.\n",
      "  0.         0.         0.         0.        ]\n",
      " [0.         0.         0.         0.         0.         0.\n",
      "  0.         0.         0.         0.         0.         0.52156863\n",
      "  0.99607843 0.99607843 0.20392157 0.         0.         0.\n",
      "  0.         0.         0.         0.         0.         0.\n",
      "  0.         0.         0.         0.        ]\n",
      " [0.         0.         0.         0.         0.         0.\n",
      "  0.         0.         0.         0.         0.23921569 0.94901961\n",
      "  0.99607843 0.99607843 0.20392157 0.         0.         0.\n",
      "  0.         0.         0.         0.         0.         0.\n",
      "  0.         0.         0.         0.        ]\n",
      " [0.         0.         0.         0.         0.         0.\n",
      "  0.         0.         0.         0.         0.4745098  0.99607843\n",
      "  0.99607843 0.85882353 0.15686275 0.         0.         0.\n",
      "  0.         0.         0.         0.         0.         0.\n",
      "  0.         0.         0.         0.        ]\n",
      " [0.         0.         0.         0.         0.         0.\n",
      "  0.         0.         0.         0.         0.4745098  0.99607843\n",
      "  0.81176471 0.07058824 0.         0.         0.         0.\n",
      "  0.         0.         0.         0.         0.         0.\n",
      "  0.         0.         0.         0.        ]\n",
      " [0.         0.         0.         0.         0.         0.\n",
      "  0.         0.         0.         0.         0.         0.\n",
      "  0.         0.         0.         0.         0.         0.\n",
      "  0.         0.         0.         0.         0.         0.\n",
      "  0.         0.         0.         0.        ]]\n"
     ]
    }
   ],
   "source": [
    "print(x_test[0])"
   ]
  },
  {
   "cell_type": "code",
   "execution_count": 21,
   "id": "09627ad0-7e94-4593-8f0b-38ac45e4a5e1",
   "metadata": {},
   "outputs": [
    {
     "name": "stdout",
     "output_type": "stream",
     "text": [
      "7\n"
     ]
    }
   ],
   "source": [
    "print(y_test[0])"
   ]
  },
  {
   "cell_type": "code",
   "execution_count": 22,
   "id": "ecbf7447-6362-45f4-bc04-c26818e1d62d",
   "metadata": {},
   "outputs": [
    {
     "data": {
      "text/plain": [
       "<matplotlib.image.AxesImage at 0x7f961cbc8b20>"
      ]
     },
     "execution_count": 22,
     "metadata": {},
     "output_type": "execute_result"
    },
    {
     "data": {
      "image/png": "[encoded data removed]",
      "text/plain": [
       "<Figure size 432x288 with 1 Axes>"
      ]
     },
     "metadata": {
      "needs_background": "light"
     },
     "output_type": "display_data"
    }
   ],
   "source": [
    "plt.imshow(x_test[0])"
   ]
  }
 ],
 "metadata": {
  "kernelspec": {
   "display_name": "Python 3",
   "language": "python",
   "name": "python3"
  },
  "language_info": {
   "codemirror_mode": {
    "name": "ipython",
    "version": 3
   },
   "file_extension": ".py",
   "mimetype": "text/x-python",
   "name": "python",
   "nbconvert_exporter": "python",
   "pygments_lexer": "ipython3",
   "version": "3.8.10"
  }
 },
 "nbformat": 4,
 "nbformat_minor": 5
}
